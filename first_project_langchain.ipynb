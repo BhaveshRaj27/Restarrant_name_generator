{
 "cells": [
  {
   "cell_type": "code",
   "execution_count": 1,
   "metadata": {},
   "outputs": [],
   "source": [
    "import os\n",
    "from secret_key import openapi_key\n",
    "os.environ[\"OPENAI_API_KEY\"] = openapi_key"
   ]
  },
  {
   "cell_type": "code",
   "execution_count": 2,
   "metadata": {},
   "outputs": [
    {
     "name": "stderr",
     "output_type": "stream",
     "text": [
      "c:\\NLP\\LLM\\Langchain\\langchain_env\\Lib\\site-packages\\langchain_core\\_api\\deprecation.py:141: LangChainDeprecationWarning: The class `OpenAI` was deprecated in LangChain 0.0.10 and will be removed in 0.3.0. An updated version of the class exists in the langchain-openai package and should be used instead. To use it run `pip install -U langchain-openai` and import as `from langchain_openai import OpenAI`.\n",
      "  warn_deprecated(\n",
      "c:\\NLP\\LLM\\Langchain\\langchain_env\\Lib\\site-packages\\langchain_core\\_api\\deprecation.py:141: LangChainDeprecationWarning: The method `BaseLLM.__call__` was deprecated in langchain-core 0.1.7 and will be removed in 1.0. Use invoke instead.\n",
      "  warn_deprecated(\n"
     ]
    }
   ],
   "source": [
    "# Help to use openai llm\n",
    "from langchain.llms import OpenAI\n",
    "\n",
    "llm  = OpenAI(temperature = 0.8)\n",
    "name = llm('who is Bhavesh ?')"
   ]
  },
  {
   "cell_type": "code",
   "execution_count": 3,
   "metadata": {},
   "outputs": [
    {
     "data": {
      "text/plain": [
       "'I want to open a restaurant for Indian food . Suggest a fancy name for it'"
      ]
     },
     "execution_count": 3,
     "metadata": {},
     "output_type": "execute_result"
    }
   ],
   "source": [
    "# Help in creating a prompt which can be feed to model\n",
    "from langchain.prompts import PromptTemplate\n",
    "\n",
    "prompt_template_name = PromptTemplate(input_variables = ['cuisine'],\n",
    "    template = \"I want to open a restaurant for {cuisine} food . Suggest a fancy name for it\"\n",
    ")\n",
    "\n",
    "prompt_template_name.format(cuisine = 'Indian')"
   ]
  },
  {
   "cell_type": "code",
   "execution_count": 4,
   "metadata": {},
   "outputs": [
    {
     "name": "stderr",
     "output_type": "stream",
     "text": [
      "c:\\NLP\\LLM\\Langchain\\langchain_env\\Lib\\site-packages\\langchain_core\\_api\\deprecation.py:141: LangChainDeprecationWarning: The class `LLMChain` was deprecated in LangChain 0.1.17 and will be removed in 1.0. Use RunnableSequence, e.g., `prompt | llm` instead.\n",
      "  warn_deprecated(\n",
      "c:\\NLP\\LLM\\Langchain\\langchain_env\\Lib\\site-packages\\langchain_core\\_api\\deprecation.py:141: LangChainDeprecationWarning: The method `Chain.run` was deprecated in langchain 0.1.0 and will be removed in 1.0. Use invoke instead.\n",
      "  warn_deprecated(\n"
     ]
    },
    {
     "data": {
      "text/plain": [
       "'\\n\\n\"Maharaja\\'s Palace\" '"
      ]
     },
     "execution_count": 4,
     "metadata": {},
     "output_type": "execute_result"
    }
   ],
   "source": [
    "# Langchain combine llm and prompt using chain object \n",
    "from langchain.chains import LLMChain\n",
    "\n",
    "chain = LLMChain(llm=llm, prompt = prompt_template_name)\n",
    "\n",
    "chain.run('Indian')"
   ]
  },
  {
   "cell_type": "code",
   "execution_count": 5,
   "metadata": {},
   "outputs": [],
   "source": [
    "# Sequential chain it used to pass the previous output of llm as input again to it \n",
    "\n",
    "from langchain.prompts import PromptTemplate\n",
    "\n",
    "prompt_template_name = PromptTemplate(input_variables = ['cuisine'],\n",
    "    template = \"I want to open a restaurant for {cuisine} food . Suggest a fancy name for it\"\n",
    ")\n",
    "\n",
    "name_chain = LLMChain(llm=llm, prompt = prompt_template_name)\n",
    "\n",
    "prompt_template_items = PromptTemplate(input_variables=['restaurant_name'],\n",
    "                                       template= \"\"\"Suggest some menu items for {restaurant_name} for each name, return in format of dictionary\"\"\")\n",
    "\n",
    "food_items_chain = LLMChain(llm=llm, prompt = prompt_template_items)"
   ]
  },
  {
   "cell_type": "code",
   "execution_count": 6,
   "metadata": {},
   "outputs": [
    {
     "name": "stdout",
     "output_type": "stream",
     "text": [
      "\n",
      "\n",
      "1. \"Sizzling Chicken Tikka Masala\"\n",
      "- Chicken Tikka Masala: Marinated chicken cooked in a creamy tomato sauce with a blend of spices, served sizzling hot.\n",
      "- Garlic Naan: Traditional Indian flatbread brushed with garlic butter and cooked in a tandoor oven.\n",
      "- Vegetable Samosas: Crispy pastry filled with spiced potatoes and mixed vegetables.\n",
      "- Mango Lassi: Refreshing yogurt-based drink with a hint of mango.\n",
      "\n",
      "2. \"Spicy Lamb Vindaloo\"\n",
      "- Lamb Vindaloo: Tender chunks of lamb cooked in a spicy and tangy tomato-based sauce with a mix of traditional Indian spices.\n",
      "- Basmati Rice: Fragrant long-grain rice cooked with aromatic spices.\n",
      "- Onion Bhaji: Fried fritters made with sliced onions, gram flour, and spices.\n",
      "- Spiced Chai: Traditional Indian black tea infused with a blend of warm spices.\n",
      "\n",
      "3. \"Paneer Tikka Masala\"\n",
      "- Paneer Tikka Masala: Cubes of paneer (Indian cottage cheese) cooked in a rich and creamy tomato sauce with a masala spice blend.\n",
      "- Garlic and Coriander Naan: Naan bread flavored with fresh garlic and coriander.\n",
      "- A\n"
     ]
    }
   ],
   "source": [
    "print(food_items_chain.run('Spice Palace'))"
   ]
  },
  {
   "cell_type": "code",
   "execution_count": 8,
   "metadata": {},
   "outputs": [
    {
     "name": "stdout",
     "output_type": "stream",
     "text": [
      "\n",
      "\n",
      "1. \"Royal Butter Chicken\" - Tender chicken cooked in a rich and creamy tomato butter sauce, served with basmati rice and naan bread.\n",
      "2. \"Saffron Lamb Korma\" - Slow-cooked lamb in a fragrant saffron-infused curry sauce, served with naan bread and cumin rice.\n",
      "3. \"Vegetable Biryani\" - Aromatic basmati rice cooked with mixed vegetables and spices, topped with fried onions and served with raita.\n",
      "4. \"Tandoori Shrimp Masala\" - Marinated shrimp cooked in a clay oven and finished in a creamy masala sauce, served with basmati rice and garlic naan bread.\n",
      "5. \"Paneer Makhani\" - Cubes of paneer cheese cooked in a creamy tomato and cashew nut sauce, served with naan bread and cumin rice.\n",
      "6. \"Chicken Tikka Masala\" - Grilled chicken pieces cooked in a spicy tomato and onion gravy, served with basmati rice and garlic butter naan bread.\n",
      "7. \"Dal Maharaja\" - Slow-cooked lentils with spices, served with basmati rice, naan bread, and a side of pickles and chut\n"
     ]
    }
   ],
   "source": [
    "from langchain.chains import SimpleSequentialChain\n",
    "\n",
    "chain = SimpleSequentialChain(chains = [name_chain,food_items_chain])\n",
    "\n",
    "response = chain.run('Indian')\n",
    "print(response)"
   ]
  },
  {
   "cell_type": "code",
   "execution_count": 13,
   "metadata": {},
   "outputs": [],
   "source": [
    "# Sequential chain it used to pass the previous output of llm as input again to it \n",
    "\n",
    "from langchain.prompts import PromptTemplate\n",
    "llm  = OpenAI(temperature = 0.8)\n",
    "prompt_template_name = PromptTemplate(input_variables = ['cuisine'],\n",
    "    template = \"I want to open a restaurant for {cuisine} food . Suggest a fancy name for it\"\n",
    ")\n",
    "\n",
    "name_chain = LLMChain(llm=llm, prompt = prompt_template_name, output_key = \"restaurant_name\")\n",
    "\n",
    "llm  = OpenAI(temperature = 0.8)\n",
    "prompt_template_items = PromptTemplate(input_variables=['restaurant_name'],\n",
    "                                       template= \"\"\"Suggest some menu items for {restaurant_name} for each name.\"\"\")\n",
    "\n",
    "food_items_chain = LLMChain(llm=llm, prompt = prompt_template_items,output_key = \"menu_items\")"
   ]
  },
  {
   "cell_type": "code",
   "execution_count": 14,
   "metadata": {},
   "outputs": [
    {
     "name": "stderr",
     "output_type": "stream",
     "text": [
      "c:\\NLP\\LLM\\Langchain\\langchain_env\\Lib\\site-packages\\langchain_core\\_api\\deprecation.py:141: LangChainDeprecationWarning: The method `Chain.__call__` was deprecated in langchain 0.1.0 and will be removed in 1.0. Use invoke instead.\n",
      "  warn_deprecated(\n"
     ]
    },
    {
     "name": "stdout",
     "output_type": "stream",
     "text": [
      "{'cuisine': 'Indian', 'restaurant_name': '\\n\\n\"Maharaja\\'s Palace: Fine Indian Cuisine\"', 'menu_items': '\\n\\n1. Chicken Tikka Masala\\n2. Lamb Vindaloo\\n3. Vegetable Biryani\\n4. Tandoori Salmon\\n5. Palak Paneer\\n6. Butter Chicken\\n7. Dal Makhani\\n8. Aloo Gobi\\n9. Rogan Josh (lamb curry)\\n10. Baingan Bharta (roasted eggplant dish)\\n11. Samosas (potato and pea filled pastries)\\n12. Naan bread with garlic and cilantro\\n13. Mango Lassi (yogurt-based drink)\\n14. Gulab Jamun (syrup-soaked dumplings)\\n15. Kheer (rice pudding)'}\n"
     ]
    }
   ],
   "source": [
    "# Sequntial chain help use to see intermediate output as well\n",
    "\n",
    "from langchain.chains import SequentialChain\n",
    "\n",
    "chain = SequentialChain(chains = [name_chain,food_items_chain],\n",
    "                        input_variables = ['cuisine'],\n",
    "                        output_variables = [\"restaurant_name\",\"menu_items\"])\n",
    "\n",
    "\n",
    "response = chain({'cuisine':'Indian'})\n",
    "print(response)"
   ]
  },
  {
   "cell_type": "code",
   "execution_count": 3,
   "metadata": {},
   "outputs": [],
   "source": [
    "import streamlit as st"
   ]
  }
 ],
 "metadata": {
  "kernelspec": {
   "display_name": "langchain_env",
   "language": "python",
   "name": "python3"
  },
  "language_info": {
   "codemirror_mode": {
    "name": "ipython",
    "version": 3
   },
   "file_extension": ".py",
   "mimetype": "text/x-python",
   "name": "python",
   "nbconvert_exporter": "python",
   "pygments_lexer": "ipython3",
   "version": "3.11.9"
  }
 },
 "nbformat": 4,
 "nbformat_minor": 2
}
